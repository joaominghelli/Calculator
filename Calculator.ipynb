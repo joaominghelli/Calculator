{
  "nbformat": 4,
  "nbformat_minor": 0,
  "metadata": {
    "colab": {
      "provenance": []
    },
    "kernelspec": {
      "name": "python3",
      "display_name": "Python 3"
    },
    "language_info": {
      "name": "python"
    }
  },
  "cells": [
    {
      "cell_type": "code",
      "execution_count": 7,
      "metadata": {
        "colab": {
          "base_uri": "https://localhost:8080/"
        },
        "id": "lqFI_3L0uVmc",
        "outputId": "50db50a4-9c8a-4318-9034-06fad9ca503a"
      },
      "outputs": [
        {
          "output_type": "stream",
          "name": "stdout",
          "text": [
            "Select the desired operation:\n",
            "1 - Addition\n",
            "2 - Subtraction\n",
            "3 - Multiplication\n",
            "4 - Division\n",
            "5 - Exponentiation\n",
            "6 - Exit\n",
            "Enter the desired operation:6\n",
            "Closing the program.\n"
          ]
        }
      ],
      "source": [
        "def calculate():\n",
        "    while True:\n",
        "        print('Select the desired operation:')\n",
        "        print('1 - Addition')\n",
        "        print('2 - Subtraction')\n",
        "        print('3 - Multiplication')\n",
        "        print('4 - Division')\n",
        "        print('5 - Exponentiation')\n",
        "        print('6 - Exit')\n",
        "\n",
        "        operation = input('Enter the desired operation:')\n",
        "\n",
        "        if operation in ('1', '2', '3', '4', '5'):\n",
        "            num1 = float(input('Enter the first number: '))\n",
        "            num2 = float(input('Enter the second number: '))\n",
        "\n",
        "            if operation == '1':\n",
        "                result = num1 + num2\n",
        "                print(f'{num1} + {num2} = {result}')\n",
        "\n",
        "            elif operation == '2':\n",
        "                result = num1 - num2\n",
        "                print(f'{num1} - {num2} = {result}')\n",
        "\n",
        "            elif operation == '3':\n",
        "                result = num1 * num2\n",
        "                print(f'{num1} * {num2} = {result}')\n",
        "\n",
        "            elif operation == '4':\n",
        "                if num2 != 0:\n",
        "                    result = num1 / num2\n",
        "                    print(f'{num1} / {num2} = {result}')\n",
        "                else:\n",
        "                    print('This program does not accept division by 0')\n",
        "\n",
        "            elif operation == '5':\n",
        "\n",
        "                    result = num1 ** num2\n",
        "                    print(f'{num1} ** {num2} = {result}')\n",
        "\n",
        "\n",
        "        elif operation == '6':\n",
        "            print('Closing the program.')\n",
        "            break\n",
        "\n",
        "        else:\n",
        "            if operation not in ('1', '2', '3', '4', '5', '6'):\n",
        "                print('This option is not available')\n",
        "\n",
        "if __name__ == \"__main__\":\n",
        "    calculate()\n"
      ]
    }
  ]
}